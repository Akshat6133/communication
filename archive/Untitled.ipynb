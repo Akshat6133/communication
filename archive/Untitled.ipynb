{
 "cells": [
  {
   "cell_type": "code",
   "execution_count": 20,
   "id": "65ecc78c-6917-4bad-8551-d91e2b439974",
   "metadata": {},
   "outputs": [],
   "source": [
    "string = \"A2b&$eL9HwCf7*1gXpQ3z\""
   ]
  },
  {
   "cell_type": "code",
   "execution_count": 24,
   "id": "a6308150-4802-4446-b41d-c9b36fd0b6c0",
   "metadata": {},
   "outputs": [
    {
     "name": "stdout",
     "output_type": "stream",
     "text": [
      "binary string: 010000010011001001100010001001100010010001100101010011000011100101001000011101110100001101100110001101110010101000110001011001110101100001110000010100010011001101111010\n",
      "168\n"
     ]
    }
   ],
   "source": [
    "test_str = string\n",
    "\n",
    "# print(\"The original string is : \" + str(test_str))\n",
    "\n",
    "# using join() + ord() + format()\n",
    "# Converting String to binary\n",
    "binary_string = ''.join(format(ord(i), '08b') for i in test_str)\n",
    "\n",
    "# printing result \n",
    "print(\"binary string: \" + str(binary_string))\n",
    "\n"
   ]
  },
  {
   "cell_type": "code",
   "execution_count": 28,
   "id": "cc892069-9457-405a-bce3-6202b9fb2aef",
   "metadata": {},
   "outputs": [
    {
     "name": "stdout",
     "output_type": "stream",
     "text": [
      "Binary String: 11011010011001011011\n",
      "4-PAM Symbols: [3, -1, 1, 1, -1, 1, -1, -1, 1, 3]\n"
     ]
    },
    {
     "data": {
      "image/png": "[encoded data removed]",
      "text/plain": [
       "<Figure size 432x288 with 1 Axes>"
      ]
     },
     "metadata": {
      "needs_background": "light"
     },
     "output_type": "display_data"
    }
   ],
   "source": [
    "import numpy as np\n",
    "import matplotlib.pyplot as plt\n",
    "\n",
    "def binary_to_4pam(binary_string):\n",
    "    if len(binary_string) % 2 != 0:\n",
    "        raise ValueError(\"Binary string length must be even for 4-PAM modulation.\")\n",
    "\n",
    "    pam_mapping = {'00': -3, '01': -1, '10': 1, '11': 3}\n",
    "    pam_symbols = [pam_mapping[binary_string[i:i+2]] for i in range(0, len(binary_string), 2)]\n",
    "    return pam_symbols\n",
    "\n",
    "# Example binary string\n",
    "binary_string = \"11011010011001011011\"\n",
    "pam_symbols = binary_to_4pam(binary_string)\n",
    "\n",
    "# Print binary string and 4-PAM symbols\n",
    "print(\"Binary String:\", binary_string)\n",
    "print(\"4-PAM Symbols:\", pam_symbols)\n",
    "\n",
    "# Generate a continuous waveform by repeating each symbol for a short duration\n",
    "t_continuous = np.linspace(0, len(pam_symbols), len(pam_symbols)*100)\n",
    "pam_waveform = np.repeat(pam_symbols, 100)\n",
    "\n",
    "# Plotting the 4-PAM symbols\n",
    "plt.plot(t_continuous, pam_waveform, drawstyle='steps-pre')\n",
    "plt.title('4-PAM Modulation')\n",
    "plt.xlabel('Symbol Index')\n",
    "plt.ylabel('Amplitude')\n",
    "plt.show()\n"
   ]
  },
  {
   "cell_type": "code",
   "execution_count": null,
   "id": "88917dec-b284-446e-a40d-bc15d6a0f53c",
   "metadata": {},
   "outputs": [],
   "source": []
  },
  {
   "cell_type": "code",
   "execution_count": null,
   "id": "e5bd34e3-23c3-4f00-ac03-b3d9538c57cc",
   "metadata": {},
   "outputs": [],
   "source": []
  }
 ],
 "metadata": {
  "kernelspec": {
   "display_name": "Python 3 (ipykernel)",
   "language": "python",
   "name": "python3"
  },
  "language_info": {
   "codemirror_mode": {
    "name": "ipython",
    "version": 3
   },
   "file_extension": ".py",
   "mimetype": "text/x-python",
   "name": "python",
   "nbconvert_exporter": "python",
   "pygments_lexer": "ipython3",
   "version": "3.10.12"
  }
 },
 "nbformat": 4,
 "nbformat_minor": 5
}
